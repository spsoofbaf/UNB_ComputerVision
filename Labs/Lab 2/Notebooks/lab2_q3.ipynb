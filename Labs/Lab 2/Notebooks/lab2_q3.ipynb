{
  "nbformat": 4,
  "nbformat_minor": 0,
  "metadata": {
    "colab": {
      "provenance": []
    },
    "kernelspec": {
      "name": "python3",
      "display_name": "Python 3"
    },
    "language_info": {
      "name": "python"
    }
  },
  "cells": [
    {
      "cell_type": "markdown",
      "source": [
        "Lab 2 Question 3\n",
        "\n",
        "github repository: https://github.com/spsoofbaf/UNB_ComputerVision"
      ],
      "metadata": {
        "id": "u5IWRA1sbXo6"
      }
    },
    {
      "cell_type": "code",
      "execution_count": null,
      "metadata": {
        "colab": {
          "base_uri": "https://localhost:8080/"
        },
        "id": "zxmKBDnObUee",
        "outputId": "f80845f0-1c68-46c0-ea69-f7dad937c162"
      },
      "outputs": [
        {
          "output_type": "stream",
          "name": "stdout",
          "text": [
            "\n",
            "Union: \n",
            "\n",
            "[[ True  True  True False]\n",
            " [False  True  True False]\n",
            " [ True  True  True  True]\n",
            " [False  True False  True]]\n",
            "\n",
            "Intersection: \n",
            "\n",
            "[[False False False False]\n",
            " [False  True False False]\n",
            " [False  True  True False]\n",
            " [False False False False]]\n",
            "\n",
            "Reflection: \n",
            "\n",
            "[[ True False  True False]\n",
            " [ True  True  True False]\n",
            " [False  True  True False]\n",
            " [False False False False]]\n",
            "\n",
            "Complement: \n",
            "\n",
            "[[False False False  True]\n",
            " [ True False  True  True]\n",
            " [False False False  True]\n",
            " [ True  True  True  True]]\n",
            "\n",
            "Difference: \n",
            "\n",
            "[[ True  True  True False]\n",
            " [False False False False]\n",
            " [ True False False False]\n",
            " [False False False False]]\n"
          ]
        }
      ],
      "source": [
        "import numpy as np\n",
        "\n",
        "a = np.array([[1, 1, 1, 0],\n",
        "              [0, 1, 0, 0],\n",
        "              [1, 1, 1, 0],\n",
        "              [0, 0, 0, 0]], dtype=bool)\n",
        "\n",
        "b = np.array([[0, 0, 0, 0],\n",
        "              [0, 1, 1, 0],\n",
        "              [0, 1, 1, 1],\n",
        "              [0, 1, 0, 1]], dtype=bool)\n",
        "\n",
        "# union\n",
        "a_union_b = np.logical_or(a, b)\n",
        "print(\"\\nUnion: \\n\")\n",
        "print(a_union_b)\n",
        "\n",
        "# intersection\n",
        "a_intersect_b = np.logical_and(a, b)\n",
        "print(\"\\nIntersection: \\n\")\n",
        "print(a_intersect_b)\n",
        "\n",
        "# reflection\n",
        "b_reflection = np.fliplr(np.flipud(b))\n",
        "print(\"\\nReflection: \\n\")\n",
        "print(b_reflection)\n",
        "\n",
        "# complement\n",
        "a_complement = np.logical_not(a)\n",
        "print(\"\\nComplement: \\n\")\n",
        "print(a_complement)\n",
        "\n",
        "# difference\n",
        "a_difference_b = np.logical_and(a, np.logical_not(b))\n",
        "print(\"\\nDifference: \\n\")\n",
        "print(a_difference_b)\n"
      ]
    }
  ]
}
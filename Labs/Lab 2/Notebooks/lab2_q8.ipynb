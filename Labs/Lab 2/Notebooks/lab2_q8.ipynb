{
  "nbformat": 4,
  "nbformat_minor": 0,
  "metadata": {
    "colab": {
      "provenance": []
    },
    "kernelspec": {
      "name": "python3",
      "display_name": "Python 3"
    },
    "language_info": {
      "name": "python"
    }
  },
  "cells": [
    {
      "cell_type": "markdown",
      "source": [
        "Lab 2 Question 8\n",
        "\n",
        "github repository: https://github.com/spsoofbaf/UNB_ComputerVision"
      ],
      "metadata": {
        "id": "L05aR2t3mDjg"
      }
    },
    {
      "cell_type": "code",
      "execution_count": 1,
      "metadata": {
        "colab": {
          "base_uri": "https://localhost:8080/"
        },
        "id": "lqj4TzfGmCCP",
        "outputId": "fdd9e2ce-f625-4fe1-bef0-ec00425f1f58"
      },
      "outputs": [
        {
          "output_type": "stream",
          "name": "stdout",
          "text": [
            "\n",
            "Euclidean: \n",
            "\n",
            "[[2 2 2 2 2]\n",
            " [2 1 1 1 2]\n",
            " [2 1 0 1 2]\n",
            " [2 1 1 1 2]\n",
            " [2 2 2 2 2]]\n",
            "\n",
            "Manhattan: \n",
            "\n",
            "[[4 3 2 3 4]\n",
            " [3 2 1 2 3]\n",
            " [2 1 0 1 2]\n",
            " [3 2 1 2 3]\n",
            " [4 3 2 3 4]]\n",
            "\n",
            "Chessboard: \n",
            "\n",
            "[[2 2 2 2 2]\n",
            " [2 1 1 1 2]\n",
            " [2 1 0 1 2]\n",
            " [2 1 1 1 2]\n",
            " [2 2 2 2 2]]\n"
          ]
        }
      ],
      "source": [
        "import numpy as np\n",
        "\n",
        "\n",
        "# Euclidean\n",
        "def calculate_euclidean_distance(p, q):\n",
        "    return np.sqrt(np.power(p[0] - q[0], 2) + np.power(p[1] - q[1], 2))\n",
        "\n",
        "\n",
        "# Manhattan\n",
        "def calculate_manhattan_distance(p, q):\n",
        "    return np.absolute(p[0] - q[0]) + np.absolute(p[1] - q[1])\n",
        "\n",
        "\n",
        "# Chessboard\n",
        "def calculate_chessboard_distance(p, q):\n",
        "    return np.maximum(np.absolute(p[0] - q[0]), np.absolute(p[1] - q[1]))\n",
        "\n",
        "\n",
        "random_image = np.random.randint(255, size=(5, 5))\n",
        "\n",
        "columns = 5\n",
        "rows = 5\n",
        "\n",
        "euclidean = np.zeros(([columns, rows]), dtype=np.int8)\n",
        "manhattan = np.zeros(([columns, rows]), dtype=np.int8)\n",
        "chessboard = np.zeros(([columns, rows]), dtype=np.int8)\n",
        "\n",
        "center = (2, 2)\n",
        "\n",
        "for x in range(columns):\n",
        "    for y in range(rows):\n",
        "        euclidean[x][y] = calculate_euclidean_distance((x, y), center)\n",
        "        manhattan[x][y] = calculate_manhattan_distance((x, y), center)\n",
        "        chessboard[x][y] = calculate_chessboard_distance((x, y), center)\n",
        "\n",
        "print(\"\\nEuclidean: \\n\")\n",
        "print(euclidean)\n",
        "print(\"\\nManhattan: \\n\")\n",
        "print(manhattan)\n",
        "print(\"\\nChessboard: \\n\")\n",
        "print(chessboard)\n"
      ]
    }
  ]
}
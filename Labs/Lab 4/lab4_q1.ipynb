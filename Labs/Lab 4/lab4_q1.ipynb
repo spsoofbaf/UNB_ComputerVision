{
  "nbformat": 4,
  "nbformat_minor": 0,
  "metadata": {
    "colab": {
      "provenance": []
    },
    "kernelspec": {
      "name": "python3",
      "display_name": "Python 3"
    },
    "language_info": {
      "name": "python"
    }
  },
  "cells": [
    {
      "cell_type": "markdown",
      "source": [
        "Question 1\n",
        "\n",
        "a)"
      ],
      "metadata": {
        "id": "7Gc5WPk9qyfd"
      }
    },
    {
      "cell_type": "code",
      "execution_count": 2,
      "metadata": {
        "colab": {
          "base_uri": "https://localhost:8080/"
        },
        "id": "mN6gaTcEqwSx",
        "outputId": "d3e34794-e1d4-4950-b1cb-a3122ecc05c4"
      },
      "outputs": [
        {
          "output_type": "stream",
          "name": "stdout",
          "text": [
            "\n",
            "Convolved image:\n",
            "\n",
            "[[4.8125 3.125  2.0625 3.25  ]\n",
            " [5.5625 4.     3.125  4.3125]\n",
            " [6.6875 5.5625 4.125  3.375 ]\n",
            " [6.9375 5.5625 4.1875 2.3125]]\n",
            "\n",
            "\n",
            "Convolved image (as integers):\n",
            "\n",
            "[[4 3 2 3]\n",
            " [5 4 3 4]\n",
            " [6 5 4 3]\n",
            " [6 5 4 2]]\n"
          ]
        }
      ],
      "source": [
        "import numpy as np\n",
        "from scipy.signal import convolve2d\n",
        "\n",
        "# Convolve the 2D image I with the 2D kernel G\n",
        "# I: 2D image\n",
        "I = np.array([[5, 4, 0, 3],\n",
        "              [6, 2, 1, 8],\n",
        "              [7, 9, 4, 2],\n",
        "              [8, 3, 6, 1]])\n",
        "# G: 2D kernel\n",
        "G = (1.0 / 16) * np.array([[1, 2, 1],\n",
        "                           [2, 4, 2],\n",
        "                           [1, 2, 1]])\n",
        "\n",
        "# Replicate-padding the input image\n",
        "padded_I = np.pad(I, pad_width=1, mode='edge')\n",
        "\n",
        "# Convolve the image with the kernel\n",
        "convolved_I = convolve2d(padded_I, G, mode='valid')\n",
        "\n",
        "# Print the result\n",
        "print(\"\\nConvolved image:\\n\")\n",
        "print(convolved_I)\n",
        "\n",
        "# And if we want to convert the result to integers:\n",
        "output = convolved_I.astype(int)\n",
        "print(\"\\n\\nConvolved image (as integers):\\n\")\n",
        "print(output)"
      ]
    },
    {
      "cell_type": "markdown",
      "source": [
        "b)"
      ],
      "metadata": {
        "id": "ERBtIvxirRip"
      }
    },
    {
      "cell_type": "code",
      "source": [
        "import numpy as np\n",
        "from scipy.signal import convolve2d\n",
        "\n",
        "# Convolve the 2D image I with a horizontal and a vertical 1D kernel\n",
        "# I: 2D image\n",
        "I = np.array([[5, 4, 0, 3],\n",
        "              [6, 2, 1, 8],\n",
        "              [7, 9, 4, 2],\n",
        "              [8, 3, 6, 1]])\n",
        "# G: 2 kernels\n",
        "G1 = (1.0 / 4) * np.array([1, 2, 1])\n",
        "G2 = (1.0 / 4) * np.array([[1],\n",
        "                           [2],\n",
        "                           [1]])\n",
        "# Replicate-padding the input image\n",
        "padded_I = np.pad(I, ((1, 1), (1, 1)), mode='edge')\n",
        "\n",
        "# Convolve the image with the horizontal kernel\n",
        "convolved_I_horizontal = convolve2d(padded_I, G1[np.newaxis, :], mode='valid')\n",
        "# Convolve the convolved_I_horizontal with the vertical kernel\n",
        "convolved_I_vertical = convolve2d(convolved_I_horizontal, G2, mode='valid')\n",
        "\n",
        "# Print the result\n",
        "print(\"\\nConvolved image (Horizontal-First)::\\n\")\n",
        "print(convolved_I_vertical)\n",
        "\n",
        "# And if we want to convert the result to integers:\n",
        "output = convolved_I_vertical.astype(int)\n",
        "print(\"\\n\\nConvolved image (Horizontal-First) (as integers):\\n\")\n",
        "print(output)\n",
        "\n",
        "# Convolve the image with the horizontal kernel\n",
        "convolved_I_vertical2 = convolve2d(padded_I, G2, mode='valid')\n",
        "# Convolve the convolved_I_horizontal with the vertical kernel\n",
        "convolved_I_horizontal2 = convolve2d(convolved_I_vertical2, G1[np.newaxis, :], mode='valid')\n",
        "\n",
        "# Print the result\n",
        "print(\"\\nConvolved image (Vertical-First)::\\n\")\n",
        "print(convolved_I_horizontal2)\n",
        "\n",
        "# And if we want to convert the result to integers:\n",
        "output2 = convolved_I_horizontal2.astype(int)\n",
        "print(\"\\n\\nConvolved image (Vertical-First) (as integers):\\n\")\n",
        "print(output2)\n"
      ],
      "metadata": {
        "colab": {
          "base_uri": "https://localhost:8080/"
        },
        "id": "MM1-9wg_rUQ_",
        "outputId": "df13397c-7cad-4905-d74a-192be4850f6f"
      },
      "execution_count": 3,
      "outputs": [
        {
          "output_type": "stream",
          "name": "stdout",
          "text": [
            "\n",
            "Convolved image (Horizontal-First)::\n",
            "\n",
            "[[4.8125 3.125  2.0625 3.25  ]\n",
            " [5.5625 4.     3.125  4.3125]\n",
            " [6.6875 5.5625 4.125  3.375 ]\n",
            " [6.9375 5.5625 4.1875 2.3125]]\n",
            "\n",
            "\n",
            "Convolved image (Horizontal-First) (as integers):\n",
            "\n",
            "[[4 3 2 3]\n",
            " [5 4 3 4]\n",
            " [6 5 4 3]\n",
            " [6 5 4 2]]\n",
            "\n",
            "Convolved image (Vertical-First)::\n",
            "\n",
            "[[4.8125 3.125  2.0625 3.25  ]\n",
            " [5.5625 4.     3.125  4.3125]\n",
            " [6.6875 5.5625 4.125  3.375 ]\n",
            " [6.9375 5.5625 4.1875 2.3125]]\n",
            "\n",
            "\n",
            "Convolved image (Vertical-First) (as integers):\n",
            "\n",
            "[[4 3 2 3]\n",
            " [5 4 3 4]\n",
            " [6 5 4 3]\n",
            " [6 5 4 2]]\n"
          ]
        }
      ]
    },
    {
      "cell_type": "markdown",
      "source": [
        "The results are the same because Convolution is associative and the order does not matter."
      ],
      "metadata": {
        "id": "OXKFhfmjraZi"
      }
    },
    {
      "cell_type": "markdown",
      "source": [
        "c)"
      ],
      "metadata": {
        "id": "481cYVzZsTGS"
      }
    },
    {
      "cell_type": "markdown",
      "source": [
        "Because the kernel used in part b is the seperable kernel of part a, they lead to the same results."
      ],
      "metadata": {
        "id": "BIFzaEoxscNB"
      }
    }
  ]
}
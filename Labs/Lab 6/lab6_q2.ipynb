{
  "nbformat": 4,
  "nbformat_minor": 0,
  "metadata": {
    "colab": {
      "provenance": []
    },
    "kernelspec": {
      "name": "python3",
      "display_name": "Python 3"
    },
    "language_info": {
      "name": "python"
    }
  },
  "cells": [
    {
      "cell_type": "markdown",
      "source": [
        "2)\n",
        "a)\n",
        "\n",
        "Mask R-CNN Inception ResNet V2 Inference Time: 95.29416966\n",
        "\n",
        "EfficientDet D0 521x512 inference time: 7.605363607\n",
        "\n",
        "We can see that the \"EfficientDet D0 521x512\" model for object detection on the same test image is substantially faster than the \"Mask R-CNN Inception ResNetV2 1024x1024\" model based on the results obtained from running the code on both models with the same test image.\n",
        "\n",
        "This might be the case because Mask R-CNN is a more complicated architecture developed for tasks like segmentation, which may not be necessary for object identification, in contrast to EfficientDet, a more recent model architecture that has been optimized for speed and accuracy."
      ],
      "metadata": {
        "id": "ks5lPKUIPmxH"
      }
    },
    {
      "cell_type": "markdown",
      "source": [
        "2)\n",
        "b)\n",
        "\n",
        "A deep learning model called Mask R-CNN Inception ResNet V2 10241024\" is used for instance segmentation and object detection.\n",
        "\n",
        "It is an expansion of the Faster R-CNN architecture that simultaneously adds a branch for object mask prediction and the branch already present for bounding box recognition.\n",
        "\n",
        "The Inception ResNet V2 architecture, a variation of the Inception network with residual connections, is the foundation for this model.\n",
        "In order to capture various degrees of spatial information, the Inception architecture employs a number of convolutional layers with various kernel sizes running in parallel.\n",
        "\n",
        "The residual connections also aid in preventing the vanishing gradient problem during training.\n",
        "\n",
        "Mask R-CNN's inclusion of the mask prediction branch enables the model to execute object recognition and segmentation simultaneously, making it ideal for projects like image editing and augmented reality.\n",
        "\n",
        "---\n",
        "Another deep learning model for object detection called \"EfficientDet D7 15361536\" is intended to be more effective than earlier models.\n",
        "\n",
        "It is built on a cutting-edge design called EfficientNet, which balances the number of layers, width, and depth of the network using a compound scaling mechanism to optimize for both accuracy and efficiency.\n",
        "\n",
        "With the addition of a new scalable feature network (SFN) module, EfficientDet enhances EfficientNet by extracting features from the input image at various scales.\n",
        "\n",
        "With the use of the SFN module, the model is better able to identify objects of various sizes without the use of additional scales or anchor boxes.\n",
        "\n",
        "Additionally, EfficientDet combines multi-scale characteristics in a way that strikes a balance between efficiency and accuracy using a weighted bi-directional feature pyramid network (BiFPN).\n",
        "\n",
        "This model is computationally efficient and uses less resources than earlier models while achieving state-of-the-art performance on the COCO object detection benchmark.\n"
      ],
      "metadata": {
        "id": "bIZ09_cBQst6"
      }
    }
  ]
}